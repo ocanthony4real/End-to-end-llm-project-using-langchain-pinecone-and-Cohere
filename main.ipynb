{
 "cells": [
  {
   "cell_type": "markdown",
   "id": "0459446c",
   "metadata": {},
   "source": [
    "# Environment Setup"
   ]
  },
  {
   "cell_type": "code",
   "execution_count": 1,
   "id": "4d688efb",
   "metadata": {},
   "outputs": [
    {
     "name": "stderr",
     "output_type": "stream",
     "text": [
      "c:\\Users\\Anthony\\Documents\\pinecone_demo_github\\venv\\Lib\\site-packages\\tqdm\\auto.py:21: TqdmWarning: IProgress not found. Please update jupyter and ipywidgets. See https://ipywidgets.readthedocs.io/en/stable/user_install.html\n",
      "  from .autonotebook import tqdm as notebook_tqdm\n",
      "c:\\Users\\Anthony\\Documents\\pinecone_demo_github\\venv\\Lib\\site-packages\\langchain_pinecone\\__init__.py:3: LangChainDeprecationWarning: As of langchain-core 0.3.0, LangChain uses pydantic v2 internally. The langchain_core.pydantic_v1 module was a compatibility shim for pydantic v1, and should no longer be used. Please update the code to import from Pydantic directly.\n",
      "\n",
      "For example, replace imports like: `from langchain_core.pydantic_v1 import BaseModel`\n",
      "with: `from pydantic import BaseModel`\n",
      "or the v1 compatibility namespace if you are working in a code base that has not been fully upgraded to pydantic 2 yet. \tfrom pydantic.v1 import BaseModel\n",
      "\n",
      "  from langchain_pinecone.vectorstores import Pinecone, PineconeVectorStore\n"
     ]
    }
   ],
   "source": [
    "import os\n",
    "from dotenv import load_dotenv \n",
    "from langchain.document_loaders import PyPDFDirectoryLoader\n",
    "from langchain.text_splitter import RecursiveCharacterTextSplitter\n",
    "from langchain_cohere import CohereEmbeddings\n",
    "from langchain_community.llms import Cohere\n",
    "from langchain.chains import RetrievalQA\n",
    "from langchain.chains import create_retrieval_chain\n",
    "from langchain.chains.combine_documents import create_stuff_documents_chain\n",
    "from langchain_community.chat_models import ChatCohere\n",
    "from langchain_core.prompts import ChatPromptTemplate\n",
    "from langchain_pinecone import PineconeVectorStore\n",
    "from pinecone import Pinecone\n"
   ]
  },
  {
   "cell_type": "code",
   "execution_count": 2,
   "id": "2347463d",
   "metadata": {},
   "outputs": [
    {
     "data": {
      "text/plain": [
       "True"
      ]
     },
     "execution_count": 2,
     "metadata": {},
     "output_type": "execute_result"
    }
   ],
   "source": [
    "load_dotenv()"
   ]
  },
  {
   "cell_type": "markdown",
   "id": "0dc63112",
   "metadata": {},
   "source": [
    "## read file\n"
   ]
  },
  {
   "cell_type": "markdown",
   "id": "f6ddd698",
   "metadata": {},
   "source": [
    "# Document Loading"
   ]
  },
  {
   "cell_type": "code",
   "execution_count": 3,
   "id": "c098094a",
   "metadata": {},
   "outputs": [],
   "source": [
    "def read_doc(directory):\n",
    "    file_loader=PyPDFDirectoryLoader(directory)\n",
    "    documents=file_loader.load()\n",
    "    return documents"
   ]
  },
  {
   "cell_type": "code",
   "execution_count": 4,
   "id": "c9383597",
   "metadata": {},
   "outputs": [
    {
     "ename": "ImportError",
     "evalue": "`pypdf` package not found, please install it with `pip install pypdf`",
     "output_type": "error",
     "traceback": [
      "\u001b[31m---------------------------------------------------------------------------\u001b[39m",
      "\u001b[31mModuleNotFoundError\u001b[39m                       Traceback (most recent call last)",
      "\u001b[36mFile \u001b[39m\u001b[32mc:\\Users\\Anthony\\Documents\\pinecone_demo_github\\venv\\Lib\\site-packages\\langchain_community\\document_loaders\\parsers\\pdf.py:359\u001b[39m, in \u001b[36mPyPDFParser.lazy_parse\u001b[39m\u001b[34m(self, blob)\u001b[39m\n\u001b[32m    358\u001b[39m \u001b[38;5;28;01mtry\u001b[39;00m:\n\u001b[32m--> \u001b[39m\u001b[32m359\u001b[39m     \u001b[38;5;28;01mimport\u001b[39;00m\u001b[38;5;250m \u001b[39m\u001b[34;01mpypdf\u001b[39;00m\n\u001b[32m    360\u001b[39m \u001b[38;5;28;01mexcept\u001b[39;00m \u001b[38;5;167;01mImportError\u001b[39;00m:\n",
      "\u001b[31mModuleNotFoundError\u001b[39m: No module named 'pypdf'",
      "\nDuring handling of the above exception, another exception occurred:\n",
      "\u001b[31mImportError\u001b[39m                               Traceback (most recent call last)",
      "\u001b[36mCell\u001b[39m\u001b[36m \u001b[39m\u001b[32mIn[4]\u001b[39m\u001b[32m, line 1\u001b[39m\n\u001b[32m----> \u001b[39m\u001b[32m1\u001b[39m docs=\u001b[43mread_doc\u001b[49m\u001b[43m(\u001b[49m\u001b[33;43m'\u001b[39;49m\u001b[33;43mdocuments/\u001b[39;49m\u001b[33;43m'\u001b[39;49m\u001b[43m)\u001b[49m\n\u001b[32m      2\u001b[39m docs\n",
      "\u001b[36mCell\u001b[39m\u001b[36m \u001b[39m\u001b[32mIn[3]\u001b[39m\u001b[32m, line 3\u001b[39m, in \u001b[36mread_doc\u001b[39m\u001b[34m(directory)\u001b[39m\n\u001b[32m      1\u001b[39m \u001b[38;5;28;01mdef\u001b[39;00m\u001b[38;5;250m \u001b[39m\u001b[34mread_doc\u001b[39m(directory):\n\u001b[32m      2\u001b[39m     file_loader=PyPDFDirectoryLoader(directory)\n\u001b[32m----> \u001b[39m\u001b[32m3\u001b[39m     documents=\u001b[43mfile_loader\u001b[49m\u001b[43m.\u001b[49m\u001b[43mload\u001b[49m\u001b[43m(\u001b[49m\u001b[43m)\u001b[49m\n\u001b[32m      4\u001b[39m     \u001b[38;5;28;01mreturn\u001b[39;00m documents\n",
      "\u001b[36mFile \u001b[39m\u001b[32mc:\\Users\\Anthony\\Documents\\pinecone_demo_github\\venv\\Lib\\site-packages\\langchain_community\\document_loaders\\pdf.py:558\u001b[39m, in \u001b[36mPyPDFDirectoryLoader.load\u001b[39m\u001b[34m(self)\u001b[39m\n\u001b[32m    556\u001b[39m                     logger.warning(e)\n\u001b[32m    557\u001b[39m                 \u001b[38;5;28;01melse\u001b[39;00m:\n\u001b[32m--> \u001b[39m\u001b[32m558\u001b[39m                     \u001b[38;5;28;01mraise\u001b[39;00m e\n\u001b[32m    559\u001b[39m \u001b[38;5;28;01mreturn\u001b[39;00m docs\n",
      "\u001b[36mFile \u001b[39m\u001b[32mc:\\Users\\Anthony\\Documents\\pinecone_demo_github\\venv\\Lib\\site-packages\\langchain_community\\document_loaders\\pdf.py:550\u001b[39m, in \u001b[36mPyPDFDirectoryLoader.load\u001b[39m\u001b[34m(self)\u001b[39m\n\u001b[32m    539\u001b[39m \u001b[38;5;28;01mtry\u001b[39;00m:\n\u001b[32m    540\u001b[39m     loader = PyPDFLoader(\n\u001b[32m    541\u001b[39m         \u001b[38;5;28mstr\u001b[39m(i),\n\u001b[32m    542\u001b[39m         password=\u001b[38;5;28mself\u001b[39m.password,\n\u001b[32m   (...)\u001b[39m\u001b[32m    548\u001b[39m         extraction_kwargs=\u001b[38;5;28mself\u001b[39m.extraction_kwargs,\n\u001b[32m    549\u001b[39m     )\n\u001b[32m--> \u001b[39m\u001b[32m550\u001b[39m     sub_docs = \u001b[43mloader\u001b[49m\u001b[43m.\u001b[49m\u001b[43mload\u001b[49m\u001b[43m(\u001b[49m\u001b[43m)\u001b[49m\n\u001b[32m    551\u001b[39m     \u001b[38;5;28;01mfor\u001b[39;00m doc \u001b[38;5;129;01min\u001b[39;00m sub_docs:\n\u001b[32m    552\u001b[39m         doc.metadata[\u001b[33m\"\u001b[39m\u001b[33msource\u001b[39m\u001b[33m\"\u001b[39m] = \u001b[38;5;28mstr\u001b[39m(i)\n",
      "\u001b[36mFile \u001b[39m\u001b[32mc:\\Users\\Anthony\\Documents\\pinecone_demo_github\\venv\\Lib\\site-packages\\langchain_core\\document_loaders\\base.py:32\u001b[39m, in \u001b[36mBaseLoader.load\u001b[39m\u001b[34m(self)\u001b[39m\n\u001b[32m     30\u001b[39m \u001b[38;5;28;01mdef\u001b[39;00m\u001b[38;5;250m \u001b[39m\u001b[34mload\u001b[39m(\u001b[38;5;28mself\u001b[39m) -> \u001b[38;5;28mlist\u001b[39m[Document]:\n\u001b[32m     31\u001b[39m \u001b[38;5;250m    \u001b[39m\u001b[33;03m\"\"\"Load data into Document objects.\"\"\"\u001b[39;00m\n\u001b[32m---> \u001b[39m\u001b[32m32\u001b[39m     \u001b[38;5;28;01mreturn\u001b[39;00m \u001b[38;5;28;43mlist\u001b[39;49m\u001b[43m(\u001b[49m\u001b[38;5;28;43mself\u001b[39;49m\u001b[43m.\u001b[49m\u001b[43mlazy_load\u001b[49m\u001b[43m(\u001b[49m\u001b[43m)\u001b[49m\u001b[43m)\u001b[49m\n",
      "\u001b[36mFile \u001b[39m\u001b[32mc:\\Users\\Anthony\\Documents\\pinecone_demo_github\\venv\\Lib\\site-packages\\langchain_community\\document_loaders\\pdf.py:305\u001b[39m, in \u001b[36mPyPDFLoader.lazy_load\u001b[39m\u001b[34m(self)\u001b[39m\n\u001b[32m    303\u001b[39m \u001b[38;5;28;01melse\u001b[39;00m:\n\u001b[32m    304\u001b[39m     blob = Blob.from_path(\u001b[38;5;28mself\u001b[39m.file_path)\n\u001b[32m--> \u001b[39m\u001b[32m305\u001b[39m \u001b[38;5;28;01myield from\u001b[39;00m \u001b[38;5;28mself\u001b[39m.parser.lazy_parse(blob)\n",
      "\u001b[36mFile \u001b[39m\u001b[32mc:\\Users\\Anthony\\Documents\\pinecone_demo_github\\venv\\Lib\\site-packages\\langchain_community\\document_loaders\\parsers\\pdf.py:361\u001b[39m, in \u001b[36mPyPDFParser.lazy_parse\u001b[39m\u001b[34m(self, blob)\u001b[39m\n\u001b[32m    359\u001b[39m     \u001b[38;5;28;01mimport\u001b[39;00m\u001b[38;5;250m \u001b[39m\u001b[34;01mpypdf\u001b[39;00m\n\u001b[32m    360\u001b[39m \u001b[38;5;28;01mexcept\u001b[39;00m \u001b[38;5;167;01mImportError\u001b[39;00m:\n\u001b[32m--> \u001b[39m\u001b[32m361\u001b[39m     \u001b[38;5;28;01mraise\u001b[39;00m \u001b[38;5;167;01mImportError\u001b[39;00m(\n\u001b[32m    362\u001b[39m         \u001b[33m\"\u001b[39m\u001b[33m`pypdf` package not found, please install it with `pip install pypdf`\u001b[39m\u001b[33m\"\u001b[39m\n\u001b[32m    363\u001b[39m     )\n\u001b[32m    365\u001b[39m \u001b[38;5;28;01mdef\u001b[39;00m\u001b[38;5;250m \u001b[39m\u001b[34m_extract_text_from_page\u001b[39m(page: pypdf.PageObject) -> \u001b[38;5;28mstr\u001b[39m:\n\u001b[32m    366\u001b[39m \u001b[38;5;250m    \u001b[39m\u001b[33;03m\"\"\"\u001b[39;00m\n\u001b[32m    367\u001b[39m \u001b[33;03m    Extract text from image given the version of pypdf.\u001b[39;00m\n\u001b[32m    368\u001b[39m \n\u001b[32m   (...)\u001b[39m\u001b[32m    373\u001b[39m \u001b[33;03m        str: The extracted text.\u001b[39;00m\n\u001b[32m    374\u001b[39m \u001b[33;03m    \"\"\"\u001b[39;00m\n",
      "\u001b[31mImportError\u001b[39m: `pypdf` package not found, please install it with `pip install pypdf`"
     ]
    }
   ],
   "source": [
    "docs=read_doc('documents/')\n",
    "docs"
   ]
  },
  {
   "cell_type": "code",
   "execution_count": null,
   "id": "a4ce2c23",
   "metadata": {},
   "outputs": [],
   "source": [
    "def chunk_data(docs,chunk_size=100,chunk_overlap=20):\n",
    "    text_splitter=RecursiveCharacterTextSplitter(chunk_size=chunk_size, chunk_overlap=chunk_overlap)\n",
    "    doc=text_splitter.split_documents(docs)\n",
    "    return doc"
   ]
  },
  {
   "cell_type": "markdown",
   "id": "df130dff",
   "metadata": {},
   "source": [
    "# Splitting Text into Chunks"
   ]
  },
  {
   "cell_type": "code",
   "execution_count": null,
   "id": "91d56af1",
   "metadata": {},
   "outputs": [
    {
     "data": {
      "text/plain": [
       "[Document(metadata={'producer': 'Microsoft® Word LTSC', 'creator': 'Microsoft® Word LTSC', 'creationdate': '2025-02-13T13:17:53+01:00', 'author': 'Anthony Orji', 'moddate': '2025-02-13T13:17:53+01:00', 'source': 'documents\\\\To the Love of my life.pdf', 'total_pages': 4, 'page': 0, 'page_label': '1'}, page_content='To the Love of my life,  \\nthe one whose smile lightens up my mood, whose voice, so calm and tender,'),\n",
       " Document(metadata={'producer': 'Microsoft® Word LTSC', 'creator': 'Microsoft® Word LTSC', 'creationdate': '2025-02-13T13:17:53+01:00', 'author': 'Anthony Orji', 'moddate': '2025-02-13T13:17:53+01:00', 'source': 'documents\\\\To the Love of my life.pdf', 'total_pages': 4, 'page': 0, 'page_label': '1'}, page_content='makes me feel like a child in the embrace of her father. I can’t completely'),\n",
       " Document(metadata={'producer': 'Microsoft® Word LTSC', 'creator': 'Microsoft® Word LTSC', 'creationdate': '2025-02-13T13:17:53+01:00', 'author': 'Anthony Orji', 'moddate': '2025-02-13T13:17:53+01:00', 'source': 'documents\\\\To the Love of my life.pdf', 'total_pages': 4, 'page': 0, 'page_label': '1'}, page_content='describe how I feel anytime I hear your voic e, the way it speaks to my'),\n",
       " Document(metadata={'producer': 'Microsoft® Word LTSC', 'creator': 'Microsoft® Word LTSC', 'creationdate': '2025-02-13T13:17:53+01:00', 'author': 'Anthony Orji', 'moddate': '2025-02-13T13:17:53+01:00', 'source': 'documents\\\\To the Love of my life.pdf', 'total_pages': 4, 'page': 0, 'page_label': '1'}, page_content='soul, the positivity I feel, the consciousness that this feeling happens only'),\n",
       " Document(metadata={'producer': 'Microsoft® Word LTSC', 'creator': 'Microsoft® Word LTSC', 'creationdate': '2025-02-13T13:17:53+01:00', 'author': 'Anthony Orji', 'moddate': '2025-02-13T13:17:53+01:00', 'source': 'documents\\\\To the Love of my life.pdf', 'total_pages': 4, 'page': 0, 'page_label': '1'}, page_content='because of you. I love your cheerfulness, your happiness, the way you find'),\n",
       " Document(metadata={'producer': 'Microsoft® Word LTSC', 'creator': 'Microsoft® Word LTSC', 'creationdate': '2025-02-13T13:17:53+01:00', 'author': 'Anthony Orji', 'moddate': '2025-02-13T13:17:53+01:00', 'source': 'documents\\\\To the Love of my life.pdf', 'total_pages': 4, 'page': 0, 'page_label': '1'}, page_content='energy to put up a smiling face  anytime we talk.  I really find it'),\n",
       " Document(metadata={'producer': 'Microsoft® Word LTSC', 'creator': 'Microsoft® Word LTSC', 'creationdate': '2025-02-13T13:17:53+01:00', 'author': 'Anthony Orji', 'moddate': '2025-02-13T13:17:53+01:00', 'source': 'documents\\\\To the Love of my life.pdf', 'total_pages': 4, 'page': 0, 'page_label': '1'}, page_content='fascinating and I pray I get to see this side of you forever.'),\n",
       " Document(metadata={'producer': 'Microsoft® Word LTSC', 'creator': 'Microsoft® Word LTSC', 'creationdate': '2025-02-13T13:17:53+01:00', 'author': 'Anthony Orji', 'moddate': '2025-02-13T13:17:53+01:00', 'source': 'documents\\\\To the Love of my life.pdf', 'total_pages': 4, 'page': 0, 'page_label': '1'}, page_content='When the year started, I never imagined I w ould have a reason to write'),\n",
       " Document(metadata={'producer': 'Microsoft® Word LTSC', 'creator': 'Microsoft® Word LTSC', 'creationdate': '2025-02-13T13:17:53+01:00', 'author': 'Anthony Orji', 'moddate': '2025-02-13T13:17:53+01:00', 'source': 'documents\\\\To the Love of my life.pdf', 'total_pages': 4, 'page': 0, 'page_label': '1'}, page_content='this to anyone. The year started with a mixed feeling because I was quite'),\n",
       " Document(metadata={'producer': 'Microsoft® Word LTSC', 'creator': 'Microsoft® Word LTSC', 'creationdate': '2025-02-13T13:17:53+01:00', 'author': 'Anthony Orji', 'moddate': '2025-02-13T13:17:53+01:00', 'source': 'documents\\\\To the Love of my life.pdf', 'total_pages': 4, 'page': 0, 'page_label': '1'}, page_content='alone. I needed so meone, a confidant, a friend, a lover, someone that'),\n",
       " Document(metadata={'producer': 'Microsoft® Word LTSC', 'creator': 'Microsoft® Word LTSC', 'creationdate': '2025-02-13T13:17:53+01:00', 'author': 'Anthony Orji', 'moddate': '2025-02-13T13:17:53+01:00', 'source': 'documents\\\\To the Love of my life.pdf', 'total_pages': 4, 'page': 0, 'page_label': '1'}, page_content='understands me and God gave you to me. It’s a gift I can’t stop unpacking'),\n",
       " Document(metadata={'producer': 'Microsoft® Word LTSC', 'creator': 'Microsoft® Word LTSC', 'creationdate': '2025-02-13T13:17:53+01:00', 'author': 'Anthony Orji', 'moddate': '2025-02-13T13:17:53+01:00', 'source': 'documents\\\\To the Love of my life.pdf', 'total_pages': 4, 'page': 0, 'page_label': '1'}, page_content='because God have deposited so much in you that it will take a lifetime to'),\n",
       " Document(metadata={'producer': 'Microsoft® Word LTSC', 'creator': 'Microsoft® Word LTSC', 'creationdate': '2025-02-13T13:17:53+01:00', 'author': 'Anthony Orji', 'moddate': '2025-02-13T13:17:53+01:00', 'source': 'documents\\\\To the Love of my life.pdf', 'total_pages': 4, 'page': 0, 'page_label': '1'}, page_content='unpack everything. For this reason, I want to spend the rest of my life'),\n",
       " Document(metadata={'producer': 'Microsoft® Word LTSC', 'creator': 'Microsoft® Word LTSC', 'creationdate': '2025-02-13T13:17:53+01:00', 'author': 'Anthony Orji', 'moddate': '2025-02-13T13:17:53+01:00', 'source': 'documents\\\\To the Love of my life.pdf', 'total_pages': 4, 'page': 0, 'page_label': '1'}, page_content='with you. I want to walk this rough, lonely path of Earth with you by my'),\n",
       " Document(metadata={'producer': 'Microsoft® Word LTSC', 'creator': 'Microsoft® Word LTSC', 'creationdate': '2025-02-13T13:17:53+01:00', 'author': 'Anthony Orji', 'moddate': '2025-02-13T13:17:53+01:00', 'source': 'documents\\\\To the Love of my life.pdf', 'total_pages': 4, 'page': 0, 'page_label': '1'}, page_content='side. Every day, I wake up, there’s this conviction that the beautiful things'),\n",
       " Document(metadata={'producer': 'Microsoft® Word LTSC', 'creator': 'Microsoft® Word LTSC', 'creationdate': '2025-02-13T13:17:53+01:00', 'author': 'Anthony Orji', 'moddate': '2025-02-13T13:17:53+01:00', 'source': 'documents\\\\To the Love of my life.pdf', 'total_pages': 4, 'page': 0, 'page_label': '1'}, page_content=\"of life God has prepared for us is just a step away. That's because you're so\"),\n",
       " Document(metadata={'producer': 'Microsoft® Word LTSC', 'creator': 'Microsoft® Word LTSC', 'creationdate': '2025-02-13T13:17:53+01:00', 'author': 'Anthony Orji', 'moddate': '2025-02-13T13:17:53+01:00', 'source': 'documents\\\\To the Love of my life.pdf', 'total_pages': 4, 'page': 0, 'page_label': '1'}, page_content='focused in the pa th of your career, and you also inspire me to be serious \\nwith mine.'),\n",
       " Document(metadata={'producer': 'Microsoft® Word LTSC', 'creator': 'Microsoft® Word LTSC', 'creationdate': '2025-02-13T13:17:53+01:00', 'author': 'Anthony Orji', 'moddate': '2025-02-13T13:17:53+01:00', 'source': 'documents\\\\To the Love of my life.pdf', 'total_pages': 4, 'page': 0, 'page_label': '1'}, page_content='with mine.  \\nYou have no idea how I love hearing you talk about your job  and'),\n",
       " Document(metadata={'producer': 'Microsoft® Word LTSC', 'creator': 'Microsoft® Word LTSC', 'creationdate': '2025-02-13T13:17:53+01:00', 'author': 'Anthony Orji', 'moddate': '2025-02-13T13:17:53+01:00', 'source': 'documents\\\\To the Love of my life.pdf', 'total_pages': 4, 'page': 0, 'page_label': '1'}, page_content=\"everything you love doing. It's just the way you're so knowledgeable about\"),\n",
       " Document(metadata={'producer': 'Microsoft® Word LTSC', 'creator': 'Microsoft® Word LTSC', 'creationdate': '2025-02-13T13:17:53+01:00', 'author': 'Anthony Orji', 'moddate': '2025-02-13T13:17:53+01:00', 'source': 'documents\\\\To the Love of my life.pdf', 'total_pages': 4, 'page': 0, 'page_label': '1'}, page_content=\"the things you do  and you won't even stop learning more. What can be \\nmore inspiring than this?\"),\n",
       " Document(metadata={'producer': 'Microsoft® Word LTSC', 'creator': 'Microsoft® Word LTSC', 'creationdate': '2025-02-13T13:17:53+01:00', 'author': 'Anthony Orji', 'moddate': '2025-02-13T13:17:53+01:00', 'source': 'documents\\\\To the Love of my life.pdf', 'total_pages': 4, 'page': 0, 'page_label': '1'}, page_content='Just like a mirror, you’ve chosen to always remind me of my beauty. No'),\n",
       " Document(metadata={'producer': 'Microsoft® Word LTSC', 'creator': 'Microsoft® Word LTSC', 'creationdate': '2025-02-13T13:17:53+01:00', 'author': 'Anthony Orji', 'moddate': '2025-02-13T13:17:53+01:00', 'source': 'documents\\\\To the Love of my life.pdf', 'total_pages': 4, 'page': 0, 'page_label': '1'}, page_content='one does it better than you do. The way you compliment me, at the'),\n",
       " Document(metadata={'producer': 'Microsoft® Word LTSC', 'creator': 'Microsoft® Word LTSC', 'creationdate': '2025-02-13T13:17:53+01:00', 'author': 'Anthony Orji', 'moddate': '2025-02-13T13:17:53+01:00', 'source': 'documents\\\\To the Love of my life.pdf', 'total_pages': 4, 'page': 1, 'page_label': '2'}, page_content='moments I least expect them, I’ve found myself falling in love with myself'),\n",
       " Document(metadata={'producer': 'Microsoft® Word LTSC', 'creator': 'Microsoft® Word LTSC', 'creationdate': '2025-02-13T13:17:53+01:00', 'author': 'Anthony Orji', 'moddate': '2025-02-13T13:17:53+01:00', 'source': 'documents\\\\To the Love of my life.pdf', 'total_pages': 4, 'page': 1, 'page_label': '2'}, page_content='more than ever, just the way you’ve fallen heel s over me. Your attention'),\n",
       " Document(metadata={'producer': 'Microsoft® Word LTSC', 'creator': 'Microsoft® Word LTSC', 'creationdate': '2025-02-13T13:17:53+01:00', 'author': 'Anthony Orji', 'moddate': '2025-02-13T13:17:53+01:00', 'source': 'documents\\\\To the Love of my life.pdf', 'total_pages': 4, 'page': 1, 'page_label': '2'}, page_content='to little details about me, the way you appreciate my beauty, I would pay'),\n",
       " Document(metadata={'producer': 'Microsoft® Word LTSC', 'creator': 'Microsoft® Word LTSC', 'creationdate': '2025-02-13T13:17:53+01:00', 'author': 'Anthony Orji', 'moddate': '2025-02-13T13:17:53+01:00', 'source': 'documents\\\\To the Love of my life.pdf', 'total_pages': 4, 'page': 1, 'page_label': '2'}, page_content='anything to hear you tell me  them over and over again. You’re an'),\n",
       " Document(metadata={'producer': 'Microsoft® Word LTSC', 'creator': 'Microsoft® Word LTSC', 'creationdate': '2025-02-13T13:17:53+01:00', 'author': 'Anthony Orji', 'moddate': '2025-02-13T13:17:53+01:00', 'source': 'documents\\\\To the Love of my life.pdf', 'total_pages': 4, 'page': 1, 'page_label': '2'}, page_content='answered prayer to me, just so you know. Like a gardener cultivating'),\n",
       " Document(metadata={'producer': 'Microsoft® Word LTSC', 'creator': 'Microsoft® Word LTSC', 'creationdate': '2025-02-13T13:17:53+01:00', 'author': 'Anthony Orji', 'moddate': '2025-02-13T13:17:53+01:00', 'source': 'documents\\\\To the Love of my life.pdf', 'total_pages': 4, 'page': 1, 'page_label': '2'}, page_content='palm fruits, you’ve chosen to see the beauty in everything I carry.  You'),\n",
       " Document(metadata={'producer': 'Microsoft® Word LTSC', 'creator': 'Microsoft® Word LTSC', 'creationdate': '2025-02-13T13:17:53+01:00', 'author': 'Anthony Orji', 'moddate': '2025-02-13T13:17:53+01:00', 'source': 'documents\\\\To the Love of my life.pdf', 'total_pages': 4, 'page': 1, 'page_label': '2'}, page_content='make me feel whole. And that’s because I have you.'),\n",
       " Document(metadata={'producer': 'Microsoft® Word LTSC', 'creator': 'Microsoft® Word LTSC', 'creationdate': '2025-02-13T13:17:53+01:00', 'author': 'Anthony Orji', 'moddate': '2025-02-13T13:17:53+01:00', 'source': 'documents\\\\To the Love of my life.pdf', 'total_pages': 4, 'page': 1, 'page_label': '2'}, page_content='Now I know what it feels to have someone genuinely care so much about'),\n",
       " Document(metadata={'producer': 'Microsoft® Word LTSC', 'creator': 'Microsoft® Word LTSC', 'creationdate': '2025-02-13T13:17:53+01:00', 'author': 'Anthony Orji', 'moddate': '2025-02-13T13:17:53+01:00', 'source': 'documents\\\\To the Love of my life.pdf', 'total_pages': 4, 'page': 1, 'page_label': '2'}, page_content='me. Sometimes, I’m totally floored by how much effort you put to make'),\n",
       " Document(metadata={'producer': 'Microsoft® Word LTSC', 'creator': 'Microsoft® Word LTSC', 'creationdate': '2025-02-13T13:17:53+01:00', 'author': 'Anthony Orji', 'moddate': '2025-02-13T13:17:53+01:00', 'source': 'documents\\\\To the Love of my life.pdf', 'total_pages': 4, 'page': 1, 'page_label': '2'}, page_content='sure that I’m okay. You do them like it’s the easiest thing to do, but I know'),\n",
       " Document(metadata={'producer': 'Microsoft® Word LTSC', 'creator': 'Microsoft® Word LTSC', 'creationdate': '2025-02-13T13:17:53+01:00', 'author': 'Anthony Orji', 'moddate': '2025-02-13T13:17:53+01:00', 'source': 'documents\\\\To the Love of my life.pdf', 'total_pages': 4, 'page': 1, 'page_label': '2'}, page_content='it’s because you love me so much. I don’t need any diviner to convince me'),\n",
       " Document(metadata={'producer': 'Microsoft® Word LTSC', 'creator': 'Microsoft® Word LTSC', 'creationdate': '2025-02-13T13:17:53+01:00', 'author': 'Anthony Orji', 'moddate': '2025-02-13T13:17:53+01:00', 'source': 'documents\\\\To the Love of my life.pdf', 'total_pages': 4, 'page': 1, 'page_label': '2'}, page_content='of your pure intentions towards me. I can feel it. I can hear it in your'),\n",
       " Document(metadata={'producer': 'Microsoft® Word LTSC', 'creator': 'Microsoft® Word LTSC', 'creationdate': '2025-02-13T13:17:53+01:00', 'author': 'Anthony Orji', 'moddate': '2025-02-13T13:17:53+01:00', 'source': 'documents\\\\To the Love of my life.pdf', 'total_pages': 4, 'page': 1, 'page_label': '2'}, page_content='voice every single time you ask me how I’m doing. Sometimes, it feels like'),\n",
       " Document(metadata={'producer': 'Microsoft® Word LTSC', 'creator': 'Microsoft® Word LTSC', 'creationdate': '2025-02-13T13:17:53+01:00', 'author': 'Anthony Orji', 'moddate': '2025-02-13T13:17:53+01:00', 'source': 'documents\\\\To the Love of my life.pdf', 'total_pages': 4, 'page': 1, 'page_label': '2'}, page_content='you have a diary where you write things about me so that you won’t'),\n",
       " Document(metadata={'producer': 'Microsoft® Word LTSC', 'creator': 'Microsoft® Word LTSC', 'creationdate': '2025-02-13T13:17:53+01:00', 'author': 'Anthony Orji', 'moddate': '2025-02-13T13:17:53+01:00', 'source': 'documents\\\\To the Love of my life.pdf', 'total_pages': 4, 'page': 1, 'page_label': '2'}, page_content='forget. But I know the love you have for me doesn’t need a pen and book'),\n",
       " Document(metadata={'producer': 'Microsoft® Word LTSC', 'creator': 'Microsoft® Word LTSC', 'creationdate': '2025-02-13T13:17:53+01:00', 'author': 'Anthony Orji', 'moddate': '2025-02-13T13:17:53+01:00', 'source': 'documents\\\\To the Love of my life.pdf', 'total_pages': 4, 'page': 1, 'page_label': '2'}, page_content='to keep a memory of me. I’m truly grateful for this kind of love you’ve'),\n",
       " Document(metadata={'producer': 'Microsoft® Word LTSC', 'creator': 'Microsoft® Word LTSC', 'creationdate': '2025-02-13T13:17:53+01:00', 'author': 'Anthony Orji', 'moddate': '2025-02-13T13:17:53+01:00', 'source': 'documents\\\\To the Love of my life.pdf', 'total_pages': 4, 'page': 1, 'page_label': '2'}, page_content='shown me. This rare untainted love. I want to let you know I have you in'),\n",
       " Document(metadata={'producer': 'Microsoft® Word LTSC', 'creator': 'Microsoft® Word LTSC', 'creationdate': '2025-02-13T13:17:53+01:00', 'author': 'Anthony Orji', 'moddate': '2025-02-13T13:17:53+01:00', 'source': 'documents\\\\To the Love of my life.pdf', 'total_pages': 4, 'page': 1, 'page_label': '2'}, page_content='my heart. I will also care for you, be by you, love and cherish you.'),\n",
       " Document(metadata={'producer': 'Microsoft® Word LTSC', 'creator': 'Microsoft® Word LTSC', 'creationdate': '2025-02-13T13:17:53+01:00', 'author': 'Anthony Orji', 'moddate': '2025-02-13T13:17:53+01:00', 'source': 'documents\\\\To the Love of my life.pdf', 'total_pages': 4, 'page': 1, 'page_label': '2'}, page_content='My best moments  in life  are always the time we spend talking and'),\n",
       " Document(metadata={'producer': 'Microsoft® Word LTSC', 'creator': 'Microsoft® Word LTSC', 'creationdate': '2025-02-13T13:17:53+01:00', 'author': 'Anthony Orji', 'moddate': '2025-02-13T13:17:53+01:00', 'source': 'documents\\\\To the Love of my life.pdf', 'total_pages': 4, 'page': 1, 'page_label': '2'}, page_content='chatting. The way we connect, it’s magical. You have a way of making me'),\n",
       " Document(metadata={'producer': 'Microsoft® Word LTSC', 'creator': 'Microsoft® Word LTSC', 'creationdate': '2025-02-13T13:17:53+01:00', 'author': 'Anthony Orji', 'moddate': '2025-02-13T13:17:53+01:00', 'source': 'documents\\\\To the Love of my life.pdf', 'total_pages': 4, 'page': 1, 'page_label': '2'}, page_content='always want more of you. I can’t explain it, but it’s like drinking water'),\n",
       " Document(metadata={'producer': 'Microsoft® Word LTSC', 'creator': 'Microsoft® Word LTSC', 'creationdate': '2025-02-13T13:17:53+01:00', 'author': 'Anthony Orji', 'moddate': '2025-02-13T13:17:53+01:00', 'source': 'documents\\\\To the Love of my life.pdf', 'total_pages': 4, 'page': 1, 'page_label': '2'}, page_content='when I’m thirsty. And of course, I’m always thirsty of you. I just can’t'),\n",
       " Document(metadata={'producer': 'Microsoft® Word LTSC', 'creator': 'Microsoft® Word LTSC', 'creationdate': '2025-02-13T13:17:53+01:00', 'author': 'Anthony Orji', 'moddate': '2025-02-13T13:17:53+01:00', 'source': 'documents\\\\To the Love of my life.pdf', 'total_pages': 4, 'page': 1, 'page_label': '2'}, page_content='have enough of you. You know how to make me forget about the realities'),\n",
       " Document(metadata={'producer': 'Microsoft® Word LTSC', 'creator': 'Microsoft® Word LTSC', 'creationdate': '2025-02-13T13:17:53+01:00', 'author': 'Anthony Orji', 'moddate': '2025-02-13T13:17:53+01:00', 'source': 'documents\\\\To the Love of my life.pdf', 'total_pages': 4, 'page': 1, 'page_label': '2'}, page_content='of the world anytime you call or text me. When we talk, I feel like every'),\n",
       " Document(metadata={'producer': 'Microsoft® Word LTSC', 'creator': 'Microsoft® Word LTSC', 'creationdate': '2025-02-13T13:17:53+01:00', 'author': 'Anthony Orji', 'moddate': '2025-02-13T13:17:53+01:00', 'source': 'documents\\\\To the Love of my life.pdf', 'total_pages': 4, 'page': 1, 'page_label': '2'}, page_content='other thing should wait until I’ve had enough of you . And of course, it’s'),\n",
       " Document(metadata={'producer': 'Microsoft® Word LTSC', 'creator': 'Microsoft® Word LTSC', 'creationdate': '2025-02-13T13:17:53+01:00', 'author': 'Anthony Orji', 'moddate': '2025-02-13T13:17:53+01:00', 'source': 'documents\\\\To the Love of my life.pdf', 'total_pages': 4, 'page': 2, 'page_label': '3'}, page_content='impossible to have enough of you. I always look forward to these moments \\nand I know you also do.'),\n",
       " Document(metadata={'producer': 'Microsoft® Word LTSC', 'creator': 'Microsoft® Word LTSC', 'creationdate': '2025-02-13T13:17:53+01:00', 'author': 'Anthony Orji', 'moddate': '2025-02-13T13:17:53+01:00', 'source': 'documents\\\\To the Love of my life.pdf', 'total_pages': 4, 'page': 2, 'page_label': '3'}, page_content='You’ve taken up the job of bein g my teacher even without me asking. It’s'),\n",
       " Document(metadata={'producer': 'Microsoft® Word LTSC', 'creator': 'Microsoft® Word LTSC', 'creationdate': '2025-02-13T13:17:53+01:00', 'author': 'Anthony Orji', 'moddate': '2025-02-13T13:17:53+01:00', 'source': 'documents\\\\To the Love of my life.pdf', 'total_pages': 4, 'page': 2, 'page_label': '3'}, page_content='hard to describe what it truly feels like but I’m so certain I don’t want to'),\n",
       " Document(metadata={'producer': 'Microsoft® Word LTSC', 'creator': 'Microsoft® Word LTSC', 'creationdate': '2025-02-13T13:17:53+01:00', 'author': 'Anthony Orji', 'moddate': '2025-02-13T13:17:53+01:00', 'source': 'documents\\\\To the Love of my life.pdf', 'total_pages': 4, 'page': 2, 'page_label': '3'}, page_content='stop being your student. The way you put me through whenever I’m'),\n",
       " Document(metadata={'producer': 'Microsoft® Word LTSC', 'creator': 'Microsoft® Word LTSC', 'creationdate': '2025-02-13T13:17:53+01:00', 'author': 'Anthony Orji', 'moddate': '2025-02-13T13:17:53+01:00', 'source': 'documents\\\\To the Love of my life.pdf', 'total_pages': 4, 'page': 2, 'page_label': '3'}, page_content='confused about anything, I can’t stop thanking God for the gift of you. If I'),\n",
       " Document(metadata={'producer': 'Microsoft® Word LTSC', 'creator': 'Microsoft® Word LTSC', 'creationdate': '2025-02-13T13:17:53+01:00', 'author': 'Anthony Orji', 'moddate': '2025-02-13T13:17:53+01:00', 'source': 'documents\\\\To the Love of my life.pdf', 'total_pages': 4, 'page': 2, 'page_label': '3'}, page_content='were to repay you for your sacrifices, I’m pretty sure that I would empty'),\n",
       " Document(metadata={'producer': 'Microsoft® Word LTSC', 'creator': 'Microsoft® Word LTSC', 'creationdate': '2025-02-13T13:17:53+01:00', 'author': 'Anthony Orji', 'moddate': '2025-02-13T13:17:53+01:00', 'source': 'documents\\\\To the Love of my life.pdf', 'total_pages': 4, 'page': 2, 'page_label': '3'}, page_content='my bank account. But one thing I know of, I will forever appreciate this'),\n",
       " Document(metadata={'producer': 'Microsoft® Word LTSC', 'creator': 'Microsoft® Word LTSC', 'creationdate': '2025-02-13T13:17:53+01:00', 'author': 'Anthony Orji', 'moddate': '2025-02-13T13:17:53+01:00', 'source': 'documents\\\\To the Love of my life.pdf', 'total_pages': 4, 'page': 2, 'page_label': '3'}, page_content='sacrifice of yours, and I will tell whoever care to listen  that you’re the'),\n",
       " Document(metadata={'producer': 'Microsoft® Word LTSC', 'creator': 'Microsoft® Word LTSC', 'creationdate': '2025-02-13T13:17:53+01:00', 'author': 'Anthony Orji', 'moddate': '2025-02-13T13:17:53+01:00', 'source': 'documents\\\\To the Love of my life.pdf', 'total_pages': 4, 'page': 2, 'page_label': '3'}, page_content='most amazing teacher one could ever ask for. You’re the standard of what'),\n",
       " Document(metadata={'producer': 'Microsoft® Word LTSC', 'creator': 'Microsoft® Word LTSC', 'creationdate': '2025-02-13T13:17:53+01:00', 'author': 'Anthony Orji', 'moddate': '2025-02-13T13:17:53+01:00', 'source': 'documents\\\\To the Love of my life.pdf', 'total_pages': 4, 'page': 2, 'page_label': '3'}, page_content='an intelligent loving lover should look like.'),\n",
       " Document(metadata={'producer': 'Microsoft® Word LTSC', 'creator': 'Microsoft® Word LTSC', 'creationdate': '2025-02-13T13:17:53+01:00', 'author': 'Anthony Orji', 'moddate': '2025-02-13T13:17:53+01:00', 'source': 'documents\\\\To the Love of my life.pdf', 'total_pages': 4, 'page': 2, 'page_label': '3'}, page_content=\"The value you've placed on our relationship is worth more than gold. I've\"),\n",
       " Document(metadata={'producer': 'Microsoft® Word LTSC', 'creator': 'Microsoft® Word LTSC', 'creationdate': '2025-02-13T13:17:53+01:00', 'author': 'Anthony Orji', 'moddate': '2025-02-13T13:17:53+01:00', 'source': 'documents\\\\To the Love of my life.pdf', 'total_pages': 4, 'page': 2, 'page_label': '3'}, page_content='never had a reason to doubt your love for me. The way you flaunt me'),\n",
       " Document(metadata={'producer': 'Microsoft® Word LTSC', 'creator': 'Microsoft® Word LTSC', 'creationdate': '2025-02-13T13:17:53+01:00', 'author': 'Anthony Orji', 'moddate': '2025-02-13T13:17:53+01:00', 'source': 'documents\\\\To the Love of my life.pdf', 'total_pages': 4, 'page': 2, 'page_label': '3'}, page_content='before your friends every opportunity you get is something I will always'),\n",
       " Document(metadata={'producer': 'Microsoft® Word LTSC', 'creator': 'Microsoft® Word LTSC', 'creationdate': '2025-02-13T13:17:53+01:00', 'author': 'Anthony Orji', 'moddate': '2025-02-13T13:17:53+01:00', 'source': 'documents\\\\To the Love of my life.pdf', 'total_pages': 4, 'page': 2, 'page_label': '3'}, page_content='cherish. Whenever you do this, I feel like the luckiest girl on Earth. Yes, I'),\n",
       " Document(metadata={'producer': 'Microsoft® Word LTSC', 'creator': 'Microsoft® Word LTSC', 'creationdate': '2025-02-13T13:17:53+01:00', 'author': 'Anthony Orji', 'moddate': '2025-02-13T13:17:53+01:00', 'source': 'documents\\\\To the Love of my life.pdf', 'total_pages': 4, 'page': 2, 'page_label': '3'}, page_content='know am. Any girl that ha s you is definitely  lucky. Sometimes I find'),\n",
       " Document(metadata={'producer': 'Microsoft® Word LTSC', 'creator': 'Microsoft® Word LTSC', 'creationdate': '2025-02-13T13:17:53+01:00', 'author': 'Anthony Orji', 'moddate': '2025-02-13T13:17:53+01:00', 'source': 'documents\\\\To the Love of my life.pdf', 'total_pages': 4, 'page': 2, 'page_label': '3'}, page_content='myself happy for no reason. Only the thought of you is enough to make me'),\n",
       " Document(metadata={'producer': 'Microsoft® Word LTSC', 'creator': 'Microsoft® Word LTSC', 'creationdate': '2025-02-13T13:17:53+01:00', 'author': 'Anthony Orji', 'moddate': '2025-02-13T13:17:53+01:00', 'source': 'documents\\\\To the Love of my life.pdf', 'total_pages': 4, 'page': 2, 'page_label': '3'}, page_content=\"happy. Every time I'm stressed, I just have to hear your voice to feel better.\"),\n",
       " Document(metadata={'producer': 'Microsoft® Word LTSC', 'creator': 'Microsoft® Word LTSC', 'creationdate': '2025-02-13T13:17:53+01:00', 'author': 'Anthony Orji', 'moddate': '2025-02-13T13:17:53+01:00', 'source': 'documents\\\\To the Love of my life.pdf', 'total_pages': 4, 'page': 2, 'page_label': '3'}, page_content='If someone had told me something like this is possible, I would have'),\n",
       " Document(metadata={'producer': 'Microsoft® Word LTSC', 'creator': 'Microsoft® Word LTSC', 'creationdate': '2025-02-13T13:17:53+01:00', 'author': 'Anthony Orji', 'moddate': '2025-02-13T13:17:53+01:00', 'source': 'documents\\\\To the Love of my life.pdf', 'total_pages': 4, 'page': 2, 'page_label': '3'}, page_content=\"doubted the person. But I've experienced this with you many times and I\"),\n",
       " Document(metadata={'producer': 'Microsoft® Word LTSC', 'creator': 'Microsoft® Word LTSC', 'creationdate': '2025-02-13T13:17:53+01:00', 'author': 'Anthony Orji', 'moddate': '2025-02-13T13:17:53+01:00', 'source': 'documents\\\\To the Love of my life.pdf', 'total_pages': 4, 'page': 2, 'page_label': '3'}, page_content=\"know it's real. You don't only relieve me of my stress, you give me peace.\"),\n",
       " Document(metadata={'producer': 'Microsoft® Word LTSC', 'creator': 'Microsoft® Word LTSC', 'creationdate': '2025-02-13T13:17:53+01:00', 'author': 'Anthony Orji', 'moddate': '2025-02-13T13:17:53+01:00', 'source': 'documents\\\\To the Love of my life.pdf', 'total_pages': 4, 'page': 2, 'page_label': '3'}, page_content='Many things combined together. Peace, joy, laughter, hope, and'),\n",
       " Document(metadata={'producer': 'Microsoft® Word LTSC', 'creator': 'Microsoft® Word LTSC', 'creationdate': '2025-02-13T13:17:53+01:00', 'author': 'Anthony Orji', 'moddate': '2025-02-13T13:17:53+01:00', 'source': 'documents\\\\To the Love of my life.pdf', 'total_pages': 4, 'page': 2, 'page_label': '3'}, page_content='everything beautiful you represent.'),\n",
       " Document(metadata={'producer': 'Microsoft® Word LTSC', 'creator': 'Microsoft® Word LTSC', 'creationdate': '2025-02-13T13:17:53+01:00', 'author': 'Anthony Orji', 'moddate': '2025-02-13T13:17:53+01:00', 'source': 'documents\\\\To the Love of my life.pdf', 'total_pages': 4, 'page': 2, 'page_label': '3'}, page_content=\"Relationship with you is very easy. I don't know how you do it, but you\"),\n",
       " Document(metadata={'producer': 'Microsoft® Word LTSC', 'creator': 'Microsoft® Word LTSC', 'creationdate': '2025-02-13T13:17:53+01:00', 'author': 'Anthony Orji', 'moddate': '2025-02-13T13:17:53+01:00', 'source': 'documents\\\\To the Love of my life.pdf', 'total_pages': 4, 'page': 2, 'page_label': '3'}, page_content='make it so simple an d I think every girl should have an experience of it.'),\n",
       " Document(metadata={'producer': 'Microsoft® Word LTSC', 'creator': 'Microsoft® Word LTSC', 'creationdate': '2025-02-13T13:17:53+01:00', 'author': 'Anthony Orji', 'moddate': '2025-02-13T13:17:53+01:00', 'source': 'documents\\\\To the Love of my life.pdf', 'total_pages': 4, 'page': 3, 'page_label': '4'}, page_content=\"Of course, not with you, I want you only for myself. Even though there's a\"),\n",
       " Document(metadata={'producer': 'Microsoft® Word LTSC', 'creator': 'Microsoft® Word LTSC', 'creationdate': '2025-02-13T13:17:53+01:00', 'author': 'Anthony Orji', 'moddate': '2025-02-13T13:17:53+01:00', 'source': 'documents\\\\To the Love of my life.pdf', 'total_pages': 4, 'page': 3, 'page_label': '4'}, page_content=\"long distance between us, my heart is always beating for you. You're\"),\n",
       " Document(metadata={'producer': 'Microsoft® Word LTSC', 'creator': 'Microsoft® Word LTSC', 'creationdate': '2025-02-13T13:17:53+01:00', 'author': 'Anthony Orji', 'moddate': '2025-02-13T13:17:53+01:00', 'source': 'documents\\\\To the Love of my life.pdf', 'total_pages': 4, 'page': 3, 'page_label': '4'}, page_content='always around me and I know you can feel it.'),\n",
       " Document(metadata={'producer': 'Microsoft® Word LTSC', 'creator': 'Microsoft® Word LTSC', 'creationdate': '2025-02-13T13:17:53+01:00', 'author': 'Anthony Orji', 'moddate': '2025-02-13T13:17:53+01:00', 'source': 'documents\\\\To the Love of my life.pdf', 'total_pages': 4, 'page': 3, 'page_label': '4'}, page_content='I love you and will always love you. And I pray this love lasts forever. \\n`'),\n",
       " Document(metadata={'producer': 'Microsoft® Word LTSC', 'creator': 'Microsoft® Word LTSC', 'creationdate': '2025-02-13T13:17:53+01:00', 'author': 'Anthony Orji', 'moddate': '2025-02-13T13:17:53+01:00', 'source': 'documents\\\\To the Love of my life.pdf', 'total_pages': 4, 'page': 3, 'page_label': '4'}, page_content='` \\nHappy Valentine babe.')]"
      ]
     },
     "execution_count": 58,
     "metadata": {},
     "output_type": "execute_result"
    }
   ],
   "source": [
    "documents = chunk_data(docs=docs)\n",
    "documents"
   ]
  },
  {
   "cell_type": "code",
   "execution_count": null,
   "id": "61e8afd3",
   "metadata": {},
   "outputs": [
    {
     "data": {
      "text/plain": [
       "CohereEmbeddings(client=<cohere.client.Client object at 0x000002066E1818C0>, async_client=<cohere.client.AsyncClient object at 0x000002067D002580>, model='embed-english-light-v3.0', truncate=None, cohere_api_key=SecretStr('**********'), embedding_types=['float'], max_retries=3, request_timeout=None, user_agent='langchain:partner', base_url=None)"
      ]
     },
     "execution_count": 59,
     "metadata": {},
     "output_type": "execute_result"
    }
   ],
   "source": [
    "embeddings=CohereEmbeddings(model=\"embed-english-light-v3.0\",\n",
    "                            cohere_api_key=os.environ['COHERE_API_KEY'])\n",
    "embeddings"
   ]
  },
  {
   "cell_type": "code",
   "execution_count": null,
   "id": "31ee981f",
   "metadata": {},
   "outputs": [],
   "source": [
    "vectors=embeddings.embed_query(\"what does the writer love about the recipient?\")"
   ]
  },
  {
   "cell_type": "markdown",
   "id": "a93d1aa6",
   "metadata": {},
   "source": [
    "# Embeddings and Vector Store"
   ]
  },
  {
   "cell_type": "code",
   "execution_count": null,
   "id": "ec77e242",
   "metadata": {},
   "outputs": [
    {
     "data": {
      "text/plain": [
       "384"
      ]
     },
     "execution_count": 61,
     "metadata": {},
     "output_type": "execute_result"
    }
   ],
   "source": [
    "len(vectors)"
   ]
  },
  {
   "cell_type": "code",
   "execution_count": null,
   "id": "d9859b6d",
   "metadata": {},
   "outputs": [],
   "source": [
    "\n",
    "\n",
    "pc = Pinecone(api_key=os.environ['PINECONE_API_KEY'])\n",
    "\n",
    "index_name = \"pineconedemo\"\n",
    "\n",
    "if not pc.has_index(index_name):\n",
    "    pc.create_index_for_model(\n",
    "        name=index_name,\n",
    "        cloud=\"aws\",\n",
    "        region=\"us-east-1\",\n",
    "        embed={\n",
    "            \"model\":\"llama-text-embed-v2\",\n",
    "            \"field_map\":{\"text\": \"chunk_text\"}\n",
    "        }\n",
    "    )"
   ]
  },
  {
   "cell_type": "markdown",
   "id": "3324e321",
   "metadata": {},
   "source": [
    "### cosine similarity to retrieve result\n",
    "\n"
   ]
  },
  {
   "cell_type": "markdown",
   "id": "d8eeb886",
   "metadata": {},
   "source": [
    "# Querying the Vector Database"
   ]
  },
  {
   "cell_type": "code",
   "execution_count": null,
   "id": "be1da9ef",
   "metadata": {},
   "outputs": [],
   "source": [
    "#from langchain.chains.question_answering import load_qa_chain\n"
   ]
  },
  {
   "cell_type": "code",
   "execution_count": null,
   "id": "5c126e9c",
   "metadata": {},
   "outputs": [],
   "source": [
    "vectorstore_from_docs = PineconeVectorStore.from_documents(\n",
    "        documents,\n",
    "        index_name=index_name,\n",
    "        embedding=embeddings\n",
    "    )\n",
    "retriever = vectorstore_from_docs.as_retriever()"
   ]
  },
  {
   "cell_type": "code",
   "execution_count": null,
   "id": "3a035fe9",
   "metadata": {},
   "outputs": [],
   "source": [
    "\n",
    "\n",
    "llm = ChatCohere(model=\"command-r\", cohere_api_key=os.environ['COHERE_API_KEY'])\n",
    "\n",
    "#llm = Cohere(model=\"gptd-instruct-tft\", cohere_api_key=os.environ['COHERE_API_KEY'])"
   ]
  },
  {
   "cell_type": "code",
   "execution_count": null,
   "id": "c734a33a",
   "metadata": {},
   "outputs": [],
   "source": [
    "system_prompt = (\n",
    "    \"Use the given context to answer the question. \"\n",
    "    \"If you don't know the answer, say you don't know. \"\n",
    "    \"Use three sentence maximum and keep the answer concise.\\n\\n\"\n",
    "    \"Context: {context}\"\n",
    ")\n",
    "prompt = ChatPromptTemplate.from_messages(\n",
    "    [\n",
    "        (\"system\", system_prompt),\n",
    "        (\"human\", \"{input}\"),\n",
    "    ]\n",
    ")"
   ]
  },
  {
   "cell_type": "code",
   "execution_count": null,
   "id": "9db03eb9",
   "metadata": {},
   "outputs": [],
   "source": [
    "question_answer_chain = create_stuff_documents_chain(llm, prompt)\n",
    "chain = create_retrieval_chain(retriever, question_answer_chain)\n"
   ]
  },
  {
   "cell_type": "code",
   "execution_count": null,
   "id": "e32aa5b5",
   "metadata": {},
   "outputs": [
    {
     "name": "stdout",
     "output_type": "stream",
     "text": [
      "{'input': 'what does the writer love about the recipient?', 'context': [Document(id='0be45e05-f61e-4ff4-9e04-617213e17aac', metadata={'author': 'Anthony Orji', 'creationdate': '2025-02-13T13:17:53+01:00', 'creator': 'Microsoft® Word LTSC', 'moddate': '2025-02-13T13:17:53+01:00', 'page': 1.0, 'page_label': '2', 'producer': 'Microsoft® Word LTSC', 'source': 'documents\\\\To the Love of my life.pdf', 'total_pages': 4.0}, page_content='Now I know what it feels to have someone genuinely care so much about'), Document(id='0fcd0f0f-3373-45a4-83e0-b9f11fdc5e53', metadata={'author': 'Anthony Orji', 'creationdate': '2025-02-13T13:17:53+01:00', 'creator': 'Microsoft® Word LTSC', 'moddate': '2025-02-13T13:17:53+01:00', 'page': 1.0, 'page_label': '2', 'producer': 'Microsoft® Word LTSC', 'source': 'documents\\\\To the Love of my life.pdf', 'total_pages': 4.0}, page_content='Now I know what it feels to have someone genuinely care so much about'), Document(id='ae44a80d-807e-46ed-913c-5c280495bfd5', metadata={'author': 'Anthony Orji', 'creationdate': '2025-02-13T13:17:53+01:00', 'creator': 'Microsoft® Word LTSC', 'moddate': '2025-02-13T13:17:53+01:00', 'page': 1.0, 'page_label': '2', 'producer': 'Microsoft® Word LTSC', 'source': 'documents\\\\To the Love of my life.pdf', 'total_pages': 4.0}, page_content='Now I know what it feels to have someone genuinely care so much about'), Document(id='26394cac-fe87-493f-9905-186bf10c33c3', metadata={'author': 'Anthony Orji', 'creationdate': '2025-02-13T13:17:53+01:00', 'creator': 'Microsoft® Word LTSC', 'moddate': '2025-02-13T13:17:53+01:00', 'page': 1.0, 'page_label': '2', 'producer': 'Microsoft® Word LTSC', 'source': 'documents\\\\To the Love of my life.pdf', 'total_pages': 4.0}, page_content='Now I know what it feels to have someone genuinely care so much about')], 'answer': 'The context does not explicitly state what the writer loves about the recipient, only that the writer now understands the feeling of having someone care deeply about them.'}\n"
     ]
    }
   ],
   "source": [
    "query = \"what does the writer love about the recipient?\"\n",
    "response = chain.invoke({\"input\": query})\n",
    "print(response)"
   ]
  }
 ],
 "metadata": {
  "kernelspec": {
   "display_name": "venv",
   "language": "python",
   "name": "python3"
  },
  "language_info": {
   "codemirror_mode": {
    "name": "ipython",
    "version": 3
   },
   "file_extension": ".py",
   "mimetype": "text/x-python",
   "name": "python",
   "nbconvert_exporter": "python",
   "pygments_lexer": "ipython3",
   "version": "3.13.2"
  }
 },
 "nbformat": 4,
 "nbformat_minor": 5
}
