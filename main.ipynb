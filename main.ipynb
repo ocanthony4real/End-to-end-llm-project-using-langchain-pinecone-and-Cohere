{
 "cells": [
  {
   "cell_type": "markdown",
   "id": "0459446c",
   "metadata": {},
   "source": [
    "## Environment Setup"
   ]
  },
  {
   "cell_type": "code",
   "execution_count": 33,
   "id": "4d688efb",
   "metadata": {},
   "outputs": [],
   "source": [
    "import os\n",
    "from dotenv import load_dotenv \n",
    "from langchain.document_loaders import PyPDFDirectoryLoader\n",
    "from langchain.text_splitter import RecursiveCharacterTextSplitter\n",
    "from langchain_cohere import CohereEmbeddings\n",
    "from langchain_cohere import ChatCohere\n",
    "from langchain.chains import RetrievalQA\n",
    "from langchain.chains import create_retrieval_chain\n",
    "from langchain.chains.combine_documents import create_stuff_documents_chain\n",
    "from langchain_core.prompts import ChatPromptTemplate\n",
    "from langchain_pinecone import PineconeVectorStore\n",
    "from pinecone import Pinecone\n"
   ]
  },
  {
   "cell_type": "code",
   "execution_count": 34,
   "id": "2347463d",
   "metadata": {},
   "outputs": [
    {
     "data": {
      "text/plain": [
       "True"
      ]
     },
     "execution_count": 34,
     "metadata": {},
     "output_type": "execute_result"
    }
   ],
   "source": [
    "load_dotenv()"
   ]
  },
  {
   "cell_type": "markdown",
   "id": "f6ddd698",
   "metadata": {},
   "source": [
    "## load document "
   ]
  },
  {
   "cell_type": "code",
   "execution_count": 35,
   "id": "c098094a",
   "metadata": {},
   "outputs": [],
   "source": [
    "def read_doc(directory):\n",
    "    file_loader=PyPDFDirectoryLoader(directory)\n",
    "    documents=file_loader.load()\n",
    "    return documents"
   ]
  },
  {
   "cell_type": "code",
   "execution_count": null,
   "id": "c9383597",
   "metadata": {},
   "outputs": [
    {
     "data": {
      "text/plain": [
       "[Document(metadata={'producer': 'Microsoft® Word LTSC', 'creator': 'Microsoft® Word LTSC', 'creationdate': '2025-02-13T13:17:53+01:00', 'author': 'Anthony Orji', 'moddate': '2025-02-13T13:17:53+01:00', 'source': 'documents\\\\To the Love of my life.pdf', 'total_pages': 4, 'page': 0, 'page_label': '1'}, page_content=\"To the Love of my life,  \\nthe one whose smile lightens up my mood, whose voice, so calm and tender, \\nmakes me feel like a child in the embrace of her father. I can’t completely \\ndescribe how I feel anytime I hear your voic e, the way it speaks to my \\nsoul, the positivity I feel, the consciousness that this feeling happens only \\nbecause of you. I love your cheerfulness, your happiness, the way you find \\nenergy to put up a smiling face  anytime we talk.  I really find it  \\nfascinating and I pray I get to see this side of you forever. \\nWhen the year started, I never imagined I w ould have a reason to write \\nthis to anyone. The year started with a mixed feeling because I was quite \\nalone. I needed so meone, a confidant, a friend, a lover, someone that \\nunderstands me and God gave you to me. It’s a gift I can’t stop unpacking \\nbecause God have deposited so much in you that it will take a lifetime to \\nunpack everything. For this reason, I want to spend the rest of my life \\nwith you. I want to walk this rough, lonely path of Earth with you by my \\nside. Every day, I wake up, there’s this conviction that the beautiful things \\nof life God has prepared for us is just a step away. That's because you're so \\nfocused in the pa th of your career, and you also inspire me to be serious \\nwith mine.  \\nYou have no idea how I love hearing you talk about your job  and \\neverything you love doing. It's just the way you're so knowledgeable about \\nthe things you do  and you won't even stop learning more. What can be \\nmore inspiring than this?  \\nJust like a mirror, you’ve chosen to always remind me of my beauty. No \\none does it better than you do. The way you compliment me, at the\"),\n",
       " Document(metadata={'producer': 'Microsoft® Word LTSC', 'creator': 'Microsoft® Word LTSC', 'creationdate': '2025-02-13T13:17:53+01:00', 'author': 'Anthony Orji', 'moddate': '2025-02-13T13:17:53+01:00', 'source': 'documents\\\\To the Love of my life.pdf', 'total_pages': 4, 'page': 1, 'page_label': '2'}, page_content='moments I least expect them, I’ve found myself falling in love with myself \\nmore than ever, just the way you’ve fallen heel s over me. Your attention \\nto little details about me, the way you appreciate my beauty, I would pay \\nanything to hear you tell me  them over and over again. You’re an \\nanswered prayer to me, just so you know. Like a gardener cultivating \\npalm fruits, you’ve chosen to see the beauty in everything I carry.  You \\nmake me feel whole. And that’s because I have you. \\nNow I know what it feels to have someone genuinely care so much about \\nme. Sometimes, I’m totally floored by how much effort you put to make \\nsure that I’m okay. You do them like it’s the easiest thing to do, but I know \\nit’s because you love me so much. I don’t need any diviner to convince me \\nof your pure intentions towards me. I can feel it. I can hear it in your \\nvoice every single time you ask me how I’m doing. Sometimes, it feels like \\nyou have a diary where you write things about me so that you won’t \\nforget. But I know the love you have for me doesn’t need a pen and book \\nto keep a memory of me. I’m truly grateful for this kind of love you’ve \\nshown me. This rare untainted love. I want to let you know I have you in \\nmy heart. I will also care for you, be by you, love and cherish you. \\nMy best moments  in life  are always the time we spend talking and \\nchatting. The way we connect, it’s magical. You have a way of making me \\nalways want more of you. I can’t explain it, but it’s like drinking water \\nwhen I’m thirsty. And of course, I’m always thirsty of you. I just can’t \\nhave enough of you. You know how to make me forget about the realities \\nof the world anytime you call or text me. When we talk, I feel like every \\nother thing should wait until I’ve had enough of you . And of course, it’s'),\n",
       " Document(metadata={'producer': 'Microsoft® Word LTSC', 'creator': 'Microsoft® Word LTSC', 'creationdate': '2025-02-13T13:17:53+01:00', 'author': 'Anthony Orji', 'moddate': '2025-02-13T13:17:53+01:00', 'source': 'documents\\\\To the Love of my life.pdf', 'total_pages': 4, 'page': 2, 'page_label': '3'}, page_content=\"impossible to have enough of you. I always look forward to these moments \\nand I know you also do. \\nYou’ve taken up the job of bein g my teacher even without me asking. It’s \\nhard to describe what it truly feels like but I’m so certain I don’t want to \\nstop being your student. The way you put me through whenever I’m \\nconfused about anything, I can’t stop thanking God for the gift of you. If I \\nwere to repay you for your sacrifices, I’m pretty sure that I would empty \\nmy bank account. But one thing I know of, I will forever appreciate this \\nsacrifice of yours, and I will tell whoever care to listen  that you’re the \\nmost amazing teacher one could ever ask for. You’re the standard of what \\nan intelligent loving lover should look like. \\nThe value you've placed on our relationship is worth more than gold. I've \\nnever had a reason to doubt your love for me. The way you flaunt me \\nbefore your friends every opportunity you get is something I will always \\ncherish. Whenever you do this, I feel like the luckiest girl on Earth. Yes, I \\nknow am. Any girl that ha s you is definitely  lucky. Sometimes I find \\nmyself happy for no reason. Only the thought of you is enough to make me \\nhappy. Every time I'm stressed, I just have to hear your voice to feel better. \\nIf someone had told me something like this is possible, I would have \\ndoubted the person. But I've experienced this with you many times and I \\nknow it's real. You don't only relieve me of my stress, you give me peace. \\nMany things combined together. Peace, joy, laughter, hope, and \\neverything beautiful you represent. \\nRelationship with you is very easy. I don't know how you do it, but you \\nmake it so simple an d I think every girl should have an experience of it.\"),\n",
       " Document(metadata={'producer': 'Microsoft® Word LTSC', 'creator': 'Microsoft® Word LTSC', 'creationdate': '2025-02-13T13:17:53+01:00', 'author': 'Anthony Orji', 'moddate': '2025-02-13T13:17:53+01:00', 'source': 'documents\\\\To the Love of my life.pdf', 'total_pages': 4, 'page': 3, 'page_label': '4'}, page_content=\"Of course, not with you, I want you only for myself. Even though there's a \\nlong distance between us, my heart is always beating for you. You're \\nalways around me and I know you can feel it. \\n \\nI love you and will always love you. And I pray this love lasts forever. \\n` \\nHappy Valentine babe.\")]"
      ]
     },
     "execution_count": 36,
     "metadata": {},
     "output_type": "execute_result"
    }
   ],
   "source": [
    "docs=read_doc('documents/')\n"
   ]
  },
  {
   "cell_type": "code",
   "execution_count": 37,
   "id": "a4ce2c23",
   "metadata": {},
   "outputs": [],
   "source": [
    "def chunk_data(docs,chunk_size=100,chunk_overlap=20):\n",
    "    text_splitter=RecursiveCharacterTextSplitter(chunk_size=chunk_size, chunk_overlap=chunk_overlap)\n",
    "    doc=text_splitter.split_documents(docs)\n",
    "    return doc"
   ]
  },
  {
   "cell_type": "markdown",
   "id": "df130dff",
   "metadata": {},
   "source": [
    "## split text into chunks"
   ]
  },
  {
   "cell_type": "code",
   "execution_count": 38,
   "id": "91d56af1",
   "metadata": {},
   "outputs": [],
   "source": [
    "documents = chunk_data(docs=docs)"
   ]
  },
  {
   "cell_type": "markdown",
   "id": "a93d1aa6",
   "metadata": {},
   "source": [
    "## embeddings and vector store"
   ]
  },
  {
   "cell_type": "code",
   "execution_count": 39,
   "id": "61e8afd3",
   "metadata": {},
   "outputs": [
    {
     "data": {
      "text/plain": [
       "CohereEmbeddings(client=<cohere.client.Client object at 0x00000187B578DB50>, async_client=<cohere.client.AsyncClient object at 0x00000187B585C290>, model='embed-english-light-v3.0', truncate=None, cohere_api_key=SecretStr('**********'), embedding_types=['float'], max_retries=3, request_timeout=None, user_agent='langchain:partner', base_url=None)"
      ]
     },
     "execution_count": 39,
     "metadata": {},
     "output_type": "execute_result"
    }
   ],
   "source": [
    "embeddings=CohereEmbeddings(model=\"embed-english-light-v3.0\",\n",
    "                            cohere_api_key=os.environ['COHERE_API_KEY'])\n",
    "embeddings"
   ]
  },
  {
   "cell_type": "code",
   "execution_count": 40,
   "id": "31ee981f",
   "metadata": {},
   "outputs": [],
   "source": [
    "vectors=embeddings.embed_query(\"what does the writer love about the recipient?\")"
   ]
  },
  {
   "cell_type": "code",
   "execution_count": 41,
   "id": "ec77e242",
   "metadata": {},
   "outputs": [
    {
     "data": {
      "text/plain": [
       "384"
      ]
     },
     "execution_count": 41,
     "metadata": {},
     "output_type": "execute_result"
    }
   ],
   "source": [
    "len(vectors)"
   ]
  },
  {
   "cell_type": "code",
   "execution_count": 42,
   "id": "d9859b6d",
   "metadata": {},
   "outputs": [],
   "source": [
    "\n",
    "\n",
    "pc = Pinecone(api_key=os.environ['PINECONE_API_KEY'])\n",
    "\n",
    "index_name = \"pineconedemo\"\n",
    "\n",
    "if not pc.has_index(index_name):\n",
    "    pc.create_index_for_model(\n",
    "        name=index_name,\n",
    "        cloud=\"aws\",\n",
    "        region=\"us-east-1\",\n",
    "        embed={\n",
    "            \"model\":\"llama-text-embed-v2\",\n",
    "            \"field_map\":{\"text\": \"chunk_text\"}\n",
    "        }\n",
    "    )"
   ]
  },
  {
   "cell_type": "markdown",
   "id": "d8eeb886",
   "metadata": {},
   "source": [
    "## query the vector database"
   ]
  },
  {
   "cell_type": "code",
   "execution_count": 43,
   "id": "5c126e9c",
   "metadata": {},
   "outputs": [],
   "source": [
    "vectorstore_from_docs = PineconeVectorStore.from_documents(\n",
    "        documents,\n",
    "        index_name=index_name,\n",
    "        embedding=embeddings\n",
    "    )\n",
    "retriever = vectorstore_from_docs.as_retriever()"
   ]
  },
  {
   "cell_type": "code",
   "execution_count": 44,
   "id": "3a035fe9",
   "metadata": {},
   "outputs": [],
   "source": [
    "\n",
    "\n",
    "llm = ChatCohere(model=\"command-r\", cohere_api_key=os.environ['COHERE_API_KEY'])\n"
   ]
  },
  {
   "cell_type": "code",
   "execution_count": 45,
   "id": "c734a33a",
   "metadata": {},
   "outputs": [],
   "source": [
    "system_prompt = (\n",
    "    \"Use the given context to answer the question. \"\n",
    "    \"If you don't know the answer, say you don't know. \"\n",
    "    \"Use three sentence maximum and keep the answer concise.\\n\\n\"\n",
    "    \"Context: {context}\"\n",
    ")\n",
    "prompt = ChatPromptTemplate.from_messages(\n",
    "    [\n",
    "        (\"system\", system_prompt),\n",
    "        (\"human\", \"{input}\"),\n",
    "    ]\n",
    ")"
   ]
  },
  {
   "cell_type": "code",
   "execution_count": 46,
   "id": "9db03eb9",
   "metadata": {},
   "outputs": [],
   "source": [
    "question_answer_chain = create_stuff_documents_chain(llm, prompt)\n",
    "chain = create_retrieval_chain(retriever, question_answer_chain)\n"
   ]
  },
  {
   "cell_type": "code",
   "execution_count": null,
   "id": "e32aa5b5",
   "metadata": {},
   "outputs": [
    {
     "name": "stdout",
     "output_type": "stream",
     "text": [
      "{'input': 'what does the writer love about the recipient?', 'context': [Document(id='0fcd0f0f-3373-45a4-83e0-b9f11fdc5e53', metadata={'author': 'Anthony Orji', 'creationdate': '2025-02-13T13:17:53+01:00', 'creator': 'Microsoft® Word LTSC', 'moddate': '2025-02-13T13:17:53+01:00', 'page': 1.0, 'page_label': '2', 'producer': 'Microsoft® Word LTSC', 'source': 'documents\\\\To the Love of my life.pdf', 'total_pages': 4.0}, page_content='Now I know what it feels to have someone genuinely care so much about'), Document(id='26394cac-fe87-493f-9905-186bf10c33c3', metadata={'author': 'Anthony Orji', 'creationdate': '2025-02-13T13:17:53+01:00', 'creator': 'Microsoft® Word LTSC', 'moddate': '2025-02-13T13:17:53+01:00', 'page': 1.0, 'page_label': '2', 'producer': 'Microsoft® Word LTSC', 'source': 'documents\\\\To the Love of my life.pdf', 'total_pages': 4.0}, page_content='Now I know what it feels to have someone genuinely care so much about'), Document(id='3fda264b-a2ad-4484-b51f-5ff7c3ce996e', metadata={'author': 'Anthony Orji', 'creationdate': '2025-02-13T13:17:53+01:00', 'creator': 'Microsoft® Word LTSC', 'moddate': '2025-02-13T13:17:53+01:00', 'page': 1.0, 'page_label': '2', 'producer': 'Microsoft® Word LTSC', 'source': 'documents\\\\To the Love of my life.pdf', 'total_pages': 4.0}, page_content='Now I know what it feels to have someone genuinely care so much about'), Document(id='0be45e05-f61e-4ff4-9e04-617213e17aac', metadata={'author': 'Anthony Orji', 'creationdate': '2025-02-13T13:17:53+01:00', 'creator': 'Microsoft® Word LTSC', 'moddate': '2025-02-13T13:17:53+01:00', 'page': 1.0, 'page_label': '2', 'producer': 'Microsoft® Word LTSC', 'source': 'documents\\\\To the Love of my life.pdf', 'total_pages': 4.0}, page_content='Now I know what it feels to have someone genuinely care so much about')], 'answer': \"The writer appreciates the recipient's sincere affection and concern, finding it an entirely new and uplifting experience to be on the receiving end of such heartfelt devotion.\"}\n"
     ]
    }
   ],
   "source": [
    "query = \"what does the writer love about the recipient?\"\n",
    "response = chain.invoke({\"input\": query})\n",
    "#print(response)"
   ]
  },
  {
   "cell_type": "code",
   "execution_count": null,
   "id": "1c47fa73",
   "metadata": {},
   "outputs": [],
   "source": []
  }
 ],
 "metadata": {
  "kernelspec": {
   "display_name": "venv",
   "language": "python",
   "name": "python3"
  },
  "language_info": {
   "codemirror_mode": {
    "name": "ipython",
    "version": 3
   },
   "file_extension": ".py",
   "mimetype": "text/x-python",
   "name": "python",
   "nbconvert_exporter": "python",
   "pygments_lexer": "ipython3",
   "version": "3.13.2"
  }
 },
 "nbformat": 4,
 "nbformat_minor": 5
}
